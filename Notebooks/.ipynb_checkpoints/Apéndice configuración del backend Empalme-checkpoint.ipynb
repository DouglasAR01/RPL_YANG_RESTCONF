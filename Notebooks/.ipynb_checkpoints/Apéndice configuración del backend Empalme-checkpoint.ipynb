{
 "cells": [
  {
   "cell_type": "markdown",
   "metadata": {},
   "source": [
    "# APÉNDICE B. CONFIGURACIÓN DEL BACKEND EMPALME\n",
    "### Douglas Andrés Ramírez\n",
    "### 2020. Universidad Industrial de Santander\n",
    "En el presente apéndice se documenta la instalación, configuración y posterior inicialización de Jetconf usando el backend personalizado Empalme.\n",
    "Es necesario que el sistema operativo donde se va a instalar sea una distribución de Linux y tenga instalado Python >=3.5."
   ]
  },
  {
   "cell_type": "markdown",
   "metadata": {},
   "source": [
    "### Instalación\n",
    "Una vez localizada la carpeta llamada Backend (ver el apéndice donde está anexo), basta con ejecutar una consola en esa locación y escribir lo siguiente:\n",
    "\n",
    "*python3 setup.py install*\n",
    "\n",
    "Esto lo que hace es instalar el módulo Empalme en el directorio de módulos de Python3.\n",
    "\n",
    "**Nota:** Es posible que se soliciten permisos elevados para la instalación del backend. De ser así, basta con elevar los permisos de acuerdo con como se realice ese procedimiento en el entorno dado, por ejemplo, anteponiendo *sudo* al principio de la oración, en caso de tratarse de una distribución de Ubuntu."
   ]
  },
  {
   "cell_type": "markdown",
   "metadata": {},
   "source": [
    "### Configuración\n",
    "El directorio Backend ya trae consigo un archivo de configuración en formato YAML llamado *conf_svr.yaml*. Este archivo tiene la configuración predeterminada necesaria y suficiente para que Jetconf pueda ser ejecutado utilizando el backend Empalme. No obstante, es posible modificar todos los parámetros, exceptuando los siguientes:\n",
    "\n",
    "- **BACKEND_PACKAGE:** El módulo a usar por Jetconf debe ser el backend Empalme.\n",
    "- **PIDFILE:** El PID de Jetconf no varía.\n",
    "\n",
    "Los demás parámetros pueden ser modificados bajo responsabilidad del usuario. En el siguiente enlace se documentan todos ellos: https://jetconf.readthedocs.io/en/latest/configuration.html\n",
    "\n",
    "El nombre del archivo de configuración puede cambiarse sin problemas, siempre y cuando mantenga la misma extensión (.yaml).\n"
   ]
  },
  {
   "attachments": {
    "imagen.png": {
     "image/png": "[encoded data removed]"
    }
   },
   "cell_type": "markdown",
   "metadata": {},
   "source": [
    "### Inicialización del Jetconf\n",
    "Una vez instalado correctamente en módulo Empalme y hecho (o no) los cambios pertinentes en el archivo de configuración, es posible inicializar el servidor. Para esto basta con introducir la siguiente línea:\n",
    "\n",
    "*jetconf -c [NOMBRE-ARCHIVO-CONFIGURACIÓN].yaml*\n",
    "\n",
    "Por ejemplo, *jetconf -c conf_svr.yaml*\n",
    "\n",
    "Si todo se ejecutó correctamente, el servidor mostrará la configuración con la que se inicializó y los siguientes mensajes:\n",
    "![imagen.png](attachment:imagen.png)\n",
    "\n",
    "A partir de este punto, el servidor ya puede recibir peticiones HTTP y, por ende, el protocolo RESTCONF ya está en ejecución."
   ]
  }
 ],
 "metadata": {
  "kernelspec": {
   "display_name": "Python 3",
   "language": "python",
   "name": "python3"
  },
  "language_info": {
   "codemirror_mode": {
    "name": "ipython",
    "version": 3
   },
   "file_extension": ".py",
   "mimetype": "text/x-python",
   "name": "python",
   "nbconvert_exporter": "python",
   "pygments_lexer": "ipython3",
   "version": "3.7.4"
  }
 },
 "nbformat": 4,
 "nbformat_minor": 2
}
