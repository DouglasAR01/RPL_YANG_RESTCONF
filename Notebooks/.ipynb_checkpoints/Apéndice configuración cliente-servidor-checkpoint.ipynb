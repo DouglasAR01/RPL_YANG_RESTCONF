{
 "cells": [
  {
   "cell_type": "markdown",
   "metadata": {},
   "source": [
    "# CONFIGURACIÓN DEL CLIENTE Y SERVIDOR RESTCONF"
   ]
  },
  {
   "cell_type": "markdown",
   "metadata": {},
   "source": [
    "### Características del servidor RESTCONF de pruebas\n",
    "\n",
    "El servidor de pruebas de RESTCONF funciona en una máquina virtual (debido a las ventajas que esto ofrece) con las siguientes características:\n",
    "\n",
    "- SO: Ubuntu 16 64bits\n",
    "- RAM: 3GB\n",
    "- Almacenamiento: 12GB\n",
    "\n",
    "Se hospeda a través del programa Virtual Box 6.0.\n",
    "\n",
    "La instalación del SO se realiza sin ningún tipo de configuración avanzada.\n",
    "#### Configuración de adicional de Virtual Box\n",
    "\n",
    "- En la configuración de red de la máquina virtual, es necesario activar \"Adaptador puente\" para que la máquina virtual esté conectada a la misma red que la máquina anfitriona.\n",
    "- Instalar las \"Guest additions\" de Virtual Box a la máquina virtual para poder compartir archivos y el portapapeles.\n",
    "- Activar dos carpetas compartidas en /home, llamadas Shared y Backend, una que apunte a los archivos a compartir entre el cliente (Cygwin) y la máquina virtual y el otro que apunte a la carpeta donde se aloje el Backend en el repositorio de la máquina anfitrión.\n",
    "- Enlazar las dos carpetas compartidas en Ubuntu (esto hay que hacerlo cada vez que se reinicia la máquina), a través de los comandos siguientes:\n",
    "    - _sudo mount -t vboxsf Shared ./Shared_\n",
    "    - _sudo mount -t vboxsf Backend ./Backend_\n",
    "\n",
    "**Nota:** Esos comandos se ejecutan en una consola cuya ruta sea el directorio en donde se crearon las carpetas a enlazar.\n",
    "\n"
   ]
  },
  {
   "cell_type": "markdown",
   "metadata": {},
   "source": [
    "### Configuración del servidor:\n",
    "\n",
    "Una vez instalado el sistema operativo en el disco virtual, es necesario instalar el manejador de paquetes de Python (Pip) y Git.\n",
    "\n",
    "_sudo apt-get install python3-pip_\n",
    "\n",
    "_sudo apt-get install git_\n",
    "\n",
    "\n",
    "#### Instalación del protocolo RESTCONF para Python\n",
    "\n",
    "Existe una implementación del protocolo RESTCONF para Python llamada Jetconf, esa es la implementación que usa el servidor.\n",
    "\n",
    "_python3 -m pip install jetconf_\n",
    "\n",
    "Luego, el backend a utilizar será el recomendado por defecto para Jetconf: Jukebox\n",
    "\n",
    "_git clone https://gitlab.labs.nic.cz/jetconf/jetconf-jukebox.git_\n",
    "\n",
    "_cd jetconf-jukebox_\n",
    "\n",
    "_sudo python3 setup.py install_\n",
    "\n",
    "**A partir de acá, se siguen los pasos listados de la siguiente fuente:**\n",
    "https://gitlab.labs.nic.cz/jetconf/jetconf-jukebox/wikis/setup\n",
    "\n",
    "No es necesario que la conexión sea segura para poder realizar pruebas de conexión. Para deshabilitar la seguridad y exigencia de certificados, en el archivo de configuración (en formato yaml) del backend, en la sección de HTTP_SERVER, se establece como **true** los siguientes atributos:\n",
    "\n",
    "- DBG_DISABLE_CERT: true\n",
    "- DBG_DISABLE_CERTS: true\n",
    "- DISABLE_SSL: true\n",
    "\n",
    "En caso de querer que la conexión sea segura, es necesario crear unos certificados de seguridad, siguiendo los pasos presentados en la siguiente fuente: https://gitlab.labs.nic.cz/labs/jetconf/wikis/certificates\n",
    "\n",
    "Los archivos necesarios se encuentran en la carpeta Utils del repositorio de Jetconf\n",
    "\n",
    "\n",
    "\n",
    "\n",
    "#### Problemas presentados:\n",
    "- **Error de sintaxis en la librería Yangson:** Instalar la versión 1.3.32. Ocurre por la versión de Python3 que instala Ubuntu (3.5.), por lo tanto, también se puede solucionar instalando una versión más reciente de Python.\n",
    "\n",
    "### Configuración del Configuración\n",
    "\n",
    "Para conectar al servidor se usará Curl como cliente, desde la consola de Cygwin en la máquina anfitrión, y sin seguridad en la conexión (por lo tanto, no es necesario realizar el paso anterior).\n",
    "\n",
    "Lo primero es encender el servidor de Jetconf, para ello es necesario dirigirse a la carpeta del backend, en este caso jetconf-jukebox, e iniciar el servidor mediante el siguiente comando:\n",
    "\n",
    "_jetconf -c [NOMBRE-DEL-ARCHIVO].yaml_\n",
    "\n",
    "El nombre por defecto del archivo, si se siguieron los pasos de instalación anteriores sin ninguna modificación, es config.\n",
    "\n",
    "Posteriormente, desde la máquina anfitrión se inicia una consola Cygwin, y se procederá a probar la conexión mediante el siguiente comando:\n",
    "\n",
    "_curl --http2-prior-knowledge -X GET http://[DIR-IP]:[PUERTO]/restconf/data_\n",
    "\n",
    "Donde la dirección IP es la de la máquina virtual y el puerto es el mostrado en la consola desde donde se inició el servidor (por defecto es el 8443).\n",
    "\n",
    "Si el servidor está funcionando correctamente, desde la consola de Cygwin se podrá ver la respuesta del servidor, siendo esta una estructura de datos, en formato Json, de los modelos YANG que incluía por defecto el backend.\n",
    "\n",
    "#### Problemas presentados:\n",
    "- **El Curl instalado en Cygwin no soporta http2:** Desde el instalador de Cygwin, agregar las librerías nghttp2 libnghttp2-dev y actualizar Curl (seleccionándolo también desde el instalador)"
   ]
  }
 ],
 "metadata": {
  "kernelspec": {
   "display_name": "Python 3",
   "language": "python",
   "name": "python3"
  },
  "language_info": {
   "codemirror_mode": {
    "name": "ipython",
    "version": 3
   },
   "file_extension": ".py",
   "mimetype": "text/x-python",
   "name": "python",
   "nbconvert_exporter": "python",
   "pygments_lexer": "ipython3",
   "version": "3.7.4"
  }
 },
 "nbformat": 4,
 "nbformat_minor": 2
}
