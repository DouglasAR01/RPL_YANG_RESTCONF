{
 "cells": [
  {
   "cell_type": "code",
   "execution_count": 14,
   "metadata": {},
   "outputs": [],
   "source": [
    "from Code.IETF import ietf_routing as rt"
   ]
  },
  {
   "cell_type": "code",
   "execution_count": 2,
   "metadata": {},
   "outputs": [],
   "source": [
    "obj = rt.ietf_routing()"
   ]
  },
  {
   "cell_type": "code",
   "execution_count": 8,
   "metadata": {},
   "outputs": [],
   "source": [
    "# El tipo de dato acá es una referencia al nombre (en string) de la interfaz\n",
    "obj._get_routing().interfaces._set_interface(\"Interfaz_1\")"
   ]
  },
  {
   "cell_type": "code",
   "execution_count": 9,
   "metadata": {},
   "outputs": [
    {
     "name": "stdout",
     "output_type": "stream",
     "text": [
      "['Interfaz_1']\n"
     ]
    }
   ],
   "source": [
    "print(obj._get_routing().interfaces._get_interface())"
   ]
  },
  {
   "cell_type": "markdown",
   "metadata": {},
   "source": [
    "## Pruebas al panel de control"
   ]
  },
  {
   "cell_type": "code",
   "execution_count": 21,
   "metadata": {},
   "outputs": [
    {
     "data": {
      "text/plain": [
       "['_YANGBaseClass__generate_extmethod',\n",
       " '_YANGList__set',\n",
       " '__check__',\n",
       " '__class__',\n",
       " '__contains__',\n",
       " '__delattr__',\n",
       " '__delitem__',\n",
       " '__dir__',\n",
       " '__doc__',\n",
       " '__eq__',\n",
       " '__format__',\n",
       " '__ge__',\n",
       " '__getattribute__',\n",
       " '__getitem__',\n",
       " '__gt__',\n",
       " '__hash__',\n",
       " '__init__',\n",
       " '__init_subclass__',\n",
       " '__iter__',\n",
       " '__le__',\n",
       " '__len__',\n",
       " '__lt__',\n",
       " '__module__',\n",
       " '__ne__',\n",
       " '__new__',\n",
       " '__reduce__',\n",
       " '__reduce_ex__',\n",
       " '__repr__',\n",
       " '__setattr__',\n",
       " '__setitem__',\n",
       " '__sizeof__',\n",
       " '__slots__',\n",
       " '__str__',\n",
       " '__subclasshook__',\n",
       " '_add_metadata',\n",
       " '_base_type',\n",
       " '_changed',\n",
       " '_choice',\n",
       " '_contained_class',\n",
       " '_cpresent',\n",
       " '_default',\n",
       " '_defining_module',\n",
       " '_extensions',\n",
       " '_extensionsd',\n",
       " '_extmethods',\n",
       " '_extract_key',\n",
       " '_generate_key',\n",
       " '_is_config',\n",
       " '_is_container',\n",
       " '_is_keyval',\n",
       " '_is_leaf',\n",
       " '_item',\n",
       " '_key_to_native_key_type',\n",
       " '_keyval',\n",
       " '_mchanged',\n",
       " '_members',\n",
       " '_metadata',\n",
       " '_namespace',\n",
       " '_new_item',\n",
       " '_ordered',\n",
       " '_parent',\n",
       " '_path',\n",
       " '_path_helper',\n",
       " '_presence',\n",
       " '_present',\n",
       " '_pybind_base_class',\n",
       " '_pybind_generated_by',\n",
       " '_register_path',\n",
       " '_register_paths',\n",
       " '_set',\n",
       " '_set_present',\n",
       " '_supplied_register_path',\n",
       " '_yang_keys',\n",
       " '_yang_name',\n",
       " '_yang_path',\n",
       " '_yang_type',\n",
       " 'add',\n",
       " 'append',\n",
       " 'default',\n",
       " 'delete',\n",
       " 'extend',\n",
       " 'get',\n",
       " 'insert',\n",
       " 'items',\n",
       " 'iteritems',\n",
       " 'itervalues',\n",
       " 'keys',\n",
       " 'pop',\n",
       " 'remove',\n",
       " 'values',\n",
       " 'yang_name']"
      ]
     },
     "execution_count": 21,
     "metadata": {},
     "output_type": "execute_result"
    }
   ],
   "source": [
    "dir(obj.routing.control_plane_protocols.control_plane_protocol)"
   ]
  },
  {
   "cell_type": "code",
   "execution_count": 32,
   "metadata": {},
   "outputs": [
    {
     "data": {
      "text/plain": [
       "<pyangbind.lib.yangtypes.YANGDynClass.<locals>.YANGBaseClass object at 0x000001FC001CF428>"
      ]
     },
     "execution_count": 32,
     "metadata": {},
     "output_type": "execute_result"
    }
   ],
   "source": [
    "obj.routing.control_plane_protocols.control_plane_protocol.add('rt:routing-protocol rpl')"
   ]
  },
  {
   "cell_type": "code",
   "execution_count": 33,
   "metadata": {},
   "outputs": [
    {
     "data": {
      "text/plain": [
       "OrderedDict([('rt:routing-protocol rpl',\n",
       "              {'type': 'rt:routing-protocol',\n",
       "               'name': 'rpl',\n",
       "               'description': ''})])"
      ]
     },
     "execution_count": 33,
     "metadata": {},
     "output_type": "execute_result"
    }
   ],
   "source": [
    "obj.routing.control_plane_protocols.control_plane_protocol.get()"
   ]
  },
  {
   "cell_type": "code",
   "execution_count": 37,
   "metadata": {},
   "outputs": [],
   "source": [
    "obj.routing.control_plane_protocols.control_plane_protocol['rt:routing-protocol rpl'].description = \"RPL routing protocol\""
   ]
  },
  {
   "cell_type": "code",
   "execution_count": 38,
   "metadata": {},
   "outputs": [
    {
     "data": {
      "text/plain": [
       "'RPL routing protocol'"
      ]
     },
     "execution_count": 38,
     "metadata": {},
     "output_type": "execute_result"
    }
   ],
   "source": [
    "obj.routing.control_plane_protocols.control_plane_protocol['rt:routing-protocol rpl'].description"
   ]
  },
  {
   "cell_type": "code",
   "execution_count": 48,
   "metadata": {},
   "outputs": [
    {
     "data": {
      "text/plain": [
       "OrderedDict()"
      ]
     },
     "execution_count": 48,
     "metadata": {},
     "output_type": "execute_result"
    }
   ],
   "source": [
    "obj.routing.ribs.rib.get()"
   ]
  },
  {
   "cell_type": "code",
   "execution_count": null,
   "metadata": {},
   "outputs": [],
   "source": []
  }
 ],
 "metadata": {
  "kernelspec": {
   "display_name": "Python 3",
   "language": "python",
   "name": "python3"
  },
  "language_info": {
   "codemirror_mode": {
    "name": "ipython",
    "version": 3
   },
   "file_extension": ".py",
   "mimetype": "text/x-python",
   "name": "python",
   "nbconvert_exporter": "python",
   "pygments_lexer": "ipython3",
   "version": "3.7.3"
  }
 },
 "nbformat": 4,
 "nbformat_minor": 2
}
